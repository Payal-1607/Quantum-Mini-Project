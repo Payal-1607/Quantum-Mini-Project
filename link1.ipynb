{
  "nbformat": 4,
  "nbformat_minor": 0,
  "metadata": {
    "colab": {
      "provenance": [],
      "authorship_tag": "ABX9TyN3eSNm7bDjqk6QBTstH5cJ",
      "include_colab_link": true
    },
    "kernelspec": {
      "name": "python3",
      "display_name": "Python 3"
    },
    "language_info": {
      "name": "python"
    }
  },
  "cells": [
    {
      "cell_type": "markdown",
      "metadata": {
        "id": "view-in-github",
        "colab_type": "text"
      },
      "source": [
        "<a href=\"https://colab.research.google.com/github/Payal-1607/Quantum-Mini-Project/blob/main/link1.ipynb\" target=\"_parent\"><img src=\"https://colab.research.google.com/assets/colab-badge.svg\" alt=\"Open In Colab\"/></a>"
      ]
    },
    {
      "cell_type": "markdown",
      "source": [
        "**As usual since we are using google colab we must install qiskit**"
      ],
      "metadata": {
        "id": "zHY8xSlzGQq6"
      }
    },
    {
      "cell_type": "code",
      "execution_count": 28,
      "metadata": {
        "colab": {
          "base_uri": "https://localhost:8080/"
        },
        "id": "971U02NRFzw2",
        "outputId": "8195b513-80f0-4f82-d8bb-4cd8e0c04dfb"
      },
      "outputs": [
        {
          "output_type": "stream",
          "name": "stdout",
          "text": [
            "Looking in indexes: https://pypi.org/simple, https://us-python.pkg.dev/colab-wheels/public/simple/\n",
            "Requirement already satisfied: qiskit in /usr/local/lib/python3.10/dist-packages (0.43.0)\n",
            "Requirement already satisfied: qiskit-terra==0.24.0 in /usr/local/lib/python3.10/dist-packages (from qiskit) (0.24.0)\n",
            "Requirement already satisfied: qiskit-aer==0.12.0 in /usr/local/lib/python3.10/dist-packages (from qiskit) (0.12.0)\n",
            "Requirement already satisfied: qiskit-ibmq-provider==0.20.2 in /usr/local/lib/python3.10/dist-packages (from qiskit) (0.20.2)\n",
            "Requirement already satisfied: numpy>=1.16.3 in /usr/local/lib/python3.10/dist-packages (from qiskit-aer==0.12.0->qiskit) (1.22.4)\n",
            "Requirement already satisfied: scipy>=1.0 in /usr/local/lib/python3.10/dist-packages (from qiskit-aer==0.12.0->qiskit) (1.10.1)\n",
            "Requirement already satisfied: requests>=2.19 in /usr/local/lib/python3.10/dist-packages (from qiskit-ibmq-provider==0.20.2->qiskit) (2.27.1)\n",
            "Requirement already satisfied: requests-ntlm<=1.1.0 in /usr/local/lib/python3.10/dist-packages (from qiskit-ibmq-provider==0.20.2->qiskit) (1.1.0)\n",
            "Requirement already satisfied: urllib3>=1.21.1 in /usr/local/lib/python3.10/dist-packages (from qiskit-ibmq-provider==0.20.2->qiskit) (1.26.15)\n",
            "Requirement already satisfied: python-dateutil>=2.8.0 in /usr/local/lib/python3.10/dist-packages (from qiskit-ibmq-provider==0.20.2->qiskit) (2.8.2)\n",
            "Requirement already satisfied: websocket-client>=1.5.1 in /usr/local/lib/python3.10/dist-packages (from qiskit-ibmq-provider==0.20.2->qiskit) (1.5.1)\n",
            "Requirement already satisfied: websockets>=10.0 in /usr/local/lib/python3.10/dist-packages (from qiskit-ibmq-provider==0.20.2->qiskit) (11.0.3)\n",
            "Requirement already satisfied: rustworkx>=0.12.0 in /usr/local/lib/python3.10/dist-packages (from qiskit-terra==0.24.0->qiskit) (0.12.1)\n",
            "Requirement already satisfied: ply>=3.10 in /usr/local/lib/python3.10/dist-packages (from qiskit-terra==0.24.0->qiskit) (3.11)\n",
            "Requirement already satisfied: psutil>=5 in /usr/local/lib/python3.10/dist-packages (from qiskit-terra==0.24.0->qiskit) (5.9.5)\n",
            "Requirement already satisfied: sympy>=1.3 in /usr/local/lib/python3.10/dist-packages (from qiskit-terra==0.24.0->qiskit) (1.11.1)\n",
            "Requirement already satisfied: dill>=0.3 in /usr/local/lib/python3.10/dist-packages (from qiskit-terra==0.24.0->qiskit) (0.3.6)\n",
            "Requirement already satisfied: stevedore>=3.0.0 in /usr/local/lib/python3.10/dist-packages (from qiskit-terra==0.24.0->qiskit) (5.1.0)\n",
            "Requirement already satisfied: symengine<0.10,>=0.9 in /usr/local/lib/python3.10/dist-packages (from qiskit-terra==0.24.0->qiskit) (0.9.2)\n",
            "Requirement already satisfied: six>=1.5 in /usr/local/lib/python3.10/dist-packages (from python-dateutil>=2.8.0->qiskit-ibmq-provider==0.20.2->qiskit) (1.16.0)\n",
            "Requirement already satisfied: certifi>=2017.4.17 in /usr/local/lib/python3.10/dist-packages (from requests>=2.19->qiskit-ibmq-provider==0.20.2->qiskit) (2022.12.7)\n",
            "Requirement already satisfied: charset-normalizer~=2.0.0 in /usr/local/lib/python3.10/dist-packages (from requests>=2.19->qiskit-ibmq-provider==0.20.2->qiskit) (2.0.12)\n",
            "Requirement already satisfied: idna<4,>=2.5 in /usr/local/lib/python3.10/dist-packages (from requests>=2.19->qiskit-ibmq-provider==0.20.2->qiskit) (3.4)\n",
            "Requirement already satisfied: ntlm-auth>=1.0.2 in /usr/local/lib/python3.10/dist-packages (from requests-ntlm<=1.1.0->qiskit-ibmq-provider==0.20.2->qiskit) (1.5.0)\n",
            "Requirement already satisfied: cryptography>=1.3 in /usr/local/lib/python3.10/dist-packages (from requests-ntlm<=1.1.0->qiskit-ibmq-provider==0.20.2->qiskit) (40.0.2)\n",
            "Requirement already satisfied: pbr!=2.1.0,>=2.0.0 in /usr/local/lib/python3.10/dist-packages (from stevedore>=3.0.0->qiskit-terra==0.24.0->qiskit) (5.11.1)\n",
            "Requirement already satisfied: mpmath>=0.19 in /usr/local/lib/python3.10/dist-packages (from sympy>=1.3->qiskit-terra==0.24.0->qiskit) (1.3.0)\n",
            "Requirement already satisfied: cffi>=1.12 in /usr/local/lib/python3.10/dist-packages (from cryptography>=1.3->requests-ntlm<=1.1.0->qiskit-ibmq-provider==0.20.2->qiskit) (1.15.1)\n",
            "Requirement already satisfied: pycparser in /usr/local/lib/python3.10/dist-packages (from cffi>=1.12->cryptography>=1.3->requests-ntlm<=1.1.0->qiskit-ibmq-provider==0.20.2->qiskit) (2.21)\n"
          ]
        }
      ],
      "source": [
        "pip install qiskit"
      ]
    },
    {
      "cell_type": "code",
      "source": [
        "from qiskit import QuantumCircuit, transpile, assemble, Aer, execute\n",
        "from qiskit.visualization import plot_histogram"
      ],
      "metadata": {
        "id": "bYmnRfIcTjoQ"
      },
      "execution_count": 66,
      "outputs": []
    },
    {
      "cell_type": "code",
      "source": [
        "# Encrypt a message using a quantum circuit\n",
        "def encrypt_message(message, key):\n",
        "    # Determine the number of qubits needed\n",
        "    num_qubits = len(key) + len(message)\n",
        "\n",
        "    # Create a quantum circuit with the necessary qubits and classical bits\n",
        "    qc = QuantumCircuit(num_qubits, len(key))\n",
        "\n",
        "    # Apply gates based on the key to encrypt the message\n",
        "    for i, bit in enumerate(key):\n",
        "        if bit == '1':\n",
        "            qc.x(i)\n",
        "\n",
        "    # Apply controlled-X gates to encrypt the message\n",
        "    for i, bit in enumerate(message):\n",
        "        if bit == '1':\n",
        "            qc.cx(i + len(key), i)\n",
        "\n",
        "    # Measure the encrypted message\n",
        "    qc.measure(list(range(len(key), len(key) + len(message))), list(range(len(message))))\n",
        "\n",
        "    return qc"
      ],
      "metadata": {
        "id": "RE3GhUZXTbFY"
      },
      "execution_count": 67,
      "outputs": []
    },
    {
      "cell_type": "code",
      "source": [
        "def decrypt_message(encrypted_message, key):\n",
        "    # Create a quantum circuit with the necessary qubits and classical bits\n",
        "    qc = QuantumCircuit(len(key) + len(encrypted_message), len(key))\n",
        "\n",
        "    # Apply gates based on the key to decrypt the message\n",
        "    for i, bit in enumerate(key):\n",
        "        if bit == '1':\n",
        "            qc.x(i)\n",
        "\n",
        "    # Apply controlled-X gates to decrypt the message\n",
        "    for i, bit in enumerate(encrypted_message):\n",
        "        if bit == '1':\n",
        "            qc.cx(i, i + len(key))\n",
        "\n",
        "    # Measure the decrypted message\n",
        "    qc.measure(list(range(len(key))), list(range(len(key))))\n",
        "\n",
        "    return qc"
      ],
      "metadata": {
        "id": "IhhfRQtYTfen"
      },
      "execution_count": 68,
      "outputs": []
    },
    {
      "cell_type": "code",
      "source": [
        "message = \"1010\"\n",
        "key = \"1111\"\n",
        "\n",
        "# Encrypt the message\n",
        "encrypted_circuit = encrypt_message(message, key)\n",
        "\n",
        "# Simulate the quantum circuit\n",
        "simulator = Aer.get_backend('qasm_simulator')\n",
        "job = execute(encrypted_circuit, simulator, shots=1)\n",
        "result = job.result()\n",
        "encrypted_counts = result.get_counts(encrypted_circuit)\n",
        "\n",
        "print(\"Encrypted Message:\")\n",
        "plot_histogram(encrypted_counts)\n",
        "\n",
        "# Decrypt the encrypted message\n",
        "decrypted_circuit = decrypt_message(list(encrypted_counts.keys())[0], key)\n",
        "\n",
        "# Simulate the quantum circuit\n",
        "job = execute(decrypted_circuit, simulator, shots=1)\n",
        "result = job.result()\n",
        "decrypted_counts = result.get_counts(decrypted_circuit)\n",
        "\n",
        "print(\"Decrypted Message:\")\n",
        "plot_histogram(decrypted_counts)"
      ],
      "metadata": {
        "colab": {
          "base_uri": "https://localhost:8080/",
          "height": 519
        },
        "id": "w5BfwY1iTqlp",
        "outputId": "c0b416a4-319f-4273-a589-442b20ab8147"
      },
      "execution_count": 71,
      "outputs": [
        {
          "output_type": "stream",
          "name": "stdout",
          "text": [
            "Encrypted Message:\n",
            "Decrypted Message:\n"
          ]
        },
        {
          "output_type": "execute_result",
          "data": {
            "text/plain": [
              "<Figure size 700x500 with 1 Axes>"
            ],
            "image/png": "[encoded data removed]"
          },
          "metadata": {},
          "execution_count": 71
        }
      ]
    }
  ]
}
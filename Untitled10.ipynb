{
 "cells": [
  {
   "cell_type": "code",
   "execution_count": 1,
   "id": "754376c5",
   "metadata": {},
   "outputs": [
    {
     "name": "stdout",
     "output_type": "stream",
     "text": [
      "Requirement already satisfied: qiskit in d:\\new folder\\lib\\site-packages (0.43.0)\n",
      "Requirement already satisfied: qiskit-terra==0.24.0 in d:\\new folder\\lib\\site-packages (from qiskit) (0.24.0)\n",
      "Requirement already satisfied: qiskit-ibmq-provider==0.20.2 in d:\\new folder\\lib\\site-packages (from qiskit) (0.20.2)\n",
      "Requirement already satisfied: qiskit-aer==0.12.0 in d:\\new folder\\lib\\site-packages (from qiskit) (0.12.0)\n",
      "Requirement already satisfied: numpy>=1.16.3 in d:\\new folder\\lib\\site-packages (from qiskit-aer==0.12.0->qiskit) (1.23.5)\n",
      "Requirement already satisfied: scipy>=1.0 in d:\\new folder\\lib\\site-packages (from qiskit-aer==0.12.0->qiskit) (1.10.0)\n",
      "Requirement already satisfied: requests>=2.19 in d:\\new folder\\lib\\site-packages (from qiskit-ibmq-provider==0.20.2->qiskit) (2.28.1)\n",
      "Requirement already satisfied: websockets>=10.0 in d:\\new folder\\lib\\site-packages (from qiskit-ibmq-provider==0.20.2->qiskit) (11.0.3)\n",
      "Requirement already satisfied: requests-ntlm<=1.1.0 in d:\\new folder\\lib\\site-packages (from qiskit-ibmq-provider==0.20.2->qiskit) (1.1.0)\n",
      "Requirement already satisfied: python-dateutil>=2.8.0 in d:\\new folder\\lib\\site-packages (from qiskit-ibmq-provider==0.20.2->qiskit) (2.8.2)\n",
      "Requirement already satisfied: websocket-client>=1.5.1 in d:\\new folder\\lib\\site-packages (from qiskit-ibmq-provider==0.20.2->qiskit) (1.5.1)\n",
      "Requirement already satisfied: urllib3>=1.21.1 in d:\\new folder\\lib\\site-packages (from qiskit-ibmq-provider==0.20.2->qiskit) (1.26.14)\n",
      "Requirement already satisfied: dill>=0.3 in d:\\new folder\\lib\\site-packages (from qiskit-terra==0.24.0->qiskit) (0.3.6)\n",
      "Requirement already satisfied: sympy>=1.3 in d:\\new folder\\lib\\site-packages (from qiskit-terra==0.24.0->qiskit) (1.11.1)\n",
      "Requirement already satisfied: psutil>=5 in d:\\new folder\\lib\\site-packages (from qiskit-terra==0.24.0->qiskit) (5.9.0)\n",
      "Requirement already satisfied: ply>=3.10 in d:\\new folder\\lib\\site-packages (from qiskit-terra==0.24.0->qiskit) (3.11)\n",
      "Requirement already satisfied: stevedore>=3.0.0 in d:\\new folder\\lib\\site-packages (from qiskit-terra==0.24.0->qiskit) (5.1.0)\n",
      "Requirement already satisfied: rustworkx>=0.12.0 in d:\\new folder\\lib\\site-packages (from qiskit-terra==0.24.0->qiskit) (0.12.1)\n",
      "Requirement already satisfied: six>=1.5 in d:\\new folder\\lib\\site-packages (from python-dateutil>=2.8.0->qiskit-ibmq-provider==0.20.2->qiskit) (1.16.0)\n",
      "Requirement already satisfied: charset-normalizer<3,>=2 in d:\\new folder\\lib\\site-packages (from requests>=2.19->qiskit-ibmq-provider==0.20.2->qiskit) (2.0.4)\n",
      "Requirement already satisfied: certifi>=2017.4.17 in d:\\new folder\\lib\\site-packages (from requests>=2.19->qiskit-ibmq-provider==0.20.2->qiskit) (2022.12.7)\n",
      "Requirement already satisfied: idna<4,>=2.5 in d:\\new folder\\lib\\site-packages (from requests>=2.19->qiskit-ibmq-provider==0.20.2->qiskit) (3.4)\n",
      "Requirement already satisfied: cryptography>=1.3 in d:\\new folder\\lib\\site-packages (from requests-ntlm<=1.1.0->qiskit-ibmq-provider==0.20.2->qiskit) (39.0.1)\n",
      "Requirement already satisfied: ntlm-auth>=1.0.2 in d:\\new folder\\lib\\site-packages (from requests-ntlm<=1.1.0->qiskit-ibmq-provider==0.20.2->qiskit) (1.5.0)\n",
      "Requirement already satisfied: pbr!=2.1.0,>=2.0.0 in d:\\new folder\\lib\\site-packages (from stevedore>=3.0.0->qiskit-terra==0.24.0->qiskit) (5.11.1)\n",
      "Requirement already satisfied: mpmath>=0.19 in d:\\new folder\\lib\\site-packages (from sympy>=1.3->qiskit-terra==0.24.0->qiskit) (1.2.1)\n",
      "Requirement already satisfied: cffi>=1.12 in d:\\new folder\\lib\\site-packages (from cryptography>=1.3->requests-ntlm<=1.1.0->qiskit-ibmq-provider==0.20.2->qiskit) (1.15.1)\n",
      "Requirement already satisfied: pycparser in d:\\new folder\\lib\\site-packages (from cffi>=1.12->cryptography>=1.3->requests-ntlm<=1.1.0->qiskit-ibmq-provider==0.20.2->qiskit) (2.21)\n",
      "Note: you may need to restart the kernel to use updated packages.\n"
     ]
    }
   ],
   "source": [
    "pip install qiskit"
   ]
  },
  {
   "cell_type": "code",
   "execution_count": 4,
   "id": "b524e603",
   "metadata": {},
   "outputs": [
    {
     "name": "stdout",
     "output_type": "stream",
     "text": [
      "Encrypted Message:\n"
     ]
    },
    {
     "name": "stderr",
     "output_type": "stream",
     "text": [
      "Matplotlib is building the font cache; this may take a moment.\n"
     ]
    },
    {
     "name": "stdout",
     "output_type": "stream",
     "text": [
      "Decrypted Message:\n"
     ]
    },
    {
     "data": {
      "image/png": "[encoded data removed]",
      "text/plain": [
       "<Figure size 700x500 with 1 Axes>"
      ]
     },
     "execution_count": 4,
     "metadata": {},
     "output_type": "execute_result"
    }
   ],
   "source": [
    "from qiskit import QuantumCircuit, transpile, assemble, Aer, execute\n",
    "from qiskit.visualization import plot_histogram\n",
    "\n",
    "# Encrypt a message using a quantum circuit\n",
    "def encrypt_message(message, key):\n",
    "    # Determine the number of qubits needed\n",
    "    num_qubits = len(key) + len(message)\n",
    "\n",
    "    # Create a quantum circuit with the necessary qubits and classical bits\n",
    "    qc = QuantumCircuit(num_qubits, len(key))\n",
    "\n",
    "    # Apply gates based on the key to encrypt the message\n",
    "    for i, bit in enumerate(key):\n",
    "        if bit == '1':\n",
    "            qc.x(i)\n",
    "\n",
    "    # Apply controlled-X gates to encrypt the message\n",
    "    for i, bit in enumerate(message):\n",
    "        if bit == '1':\n",
    "            qc.cx(i + len(key), i)\n",
    "\n",
    "    # Measure the encrypted message\n",
    "    qc.measure(list(range(len(key), len(key) + len(message))), list(range(len(message))))\n",
    "\n",
    "    return qc\n",
    "def decrypt_message(encrypted_message, key):\n",
    "    # Create a quantum circuit with the necessary qubits and classical bits\n",
    "    qc = QuantumCircuit(len(key) + len(encrypted_message), len(key))\n",
    "\n",
    "    # Apply gates based on the key to decrypt the message\n",
    "    for i, bit in enumerate(key):\n",
    "        if bit == '1':\n",
    "            qc.x(i)\n",
    "\n",
    "    # Apply controlled-X gates to decrypt the message\n",
    "    for i, bit in enumerate(encrypted_message):\n",
    "        if bit == '1':\n",
    "            qc.cx(i, i + len(key))\n",
    "\n",
    "    # Measure the decrypted message\n",
    "    qc.measure(list(range(len(key))), list(range(len(key))))\n",
    "\n",
    "    return qc\n",
    "\n",
    "message = \"1010\"\n",
    "key = \"1111\"\n",
    "\n",
    "# Encrypt the message\n",
    "encrypted_circuit = encrypt_message(message, key)\n",
    "\n",
    "# Simulate the quantum circuit\n",
    "simulator = Aer.get_backend('qasm_simulator')\n",
    "job = execute(encrypted_circuit, simulator, shots=1)\n",
    "result = job.result()\n",
    "encrypted_counts = result.get_counts(encrypted_circuit)\n",
    "\n",
    "print(\"Encrypted Message:\")\n",
    "plot_histogram(encrypted_counts)\n",
    "\n",
    "# Decrypt the encrypted message\n",
    "decrypted_circuit = decrypt_message(list(encrypted_counts.keys())[0], key)\n",
    "\n",
    "# Simulate the quantum circuit\n",
    "job = execute(decrypted_circuit, simulator, shots=1)\n",
    "result = job.result()\n",
    "decrypted_counts = result.get_counts(decrypted_circuit)\n",
    "\n",
    "print(\"Decrypted Message:\")\n",
    "plot_histogram(decrypted_counts)"
   ]
  },
  {
   "cell_type": "code",
   "execution_count": 5,
   "id": "eab3b769",
   "metadata": {},
   "outputs": [
    {
     "name": "stdout",
     "output_type": "stream",
     "text": [
      "Decrypted Message:\n"
     ]
    },
    {
     "data": {
      "image/png": "[encoded data removed]",
      "text/plain": [
       "<Figure size 700x500 with 1 Axes>"
      ]
     },
     "execution_count": 5,
     "metadata": {},
     "output_type": "execute_result"
    }
   ],
   "source": [
    "from qiskit import QuantumCircuit, transpile, assemble, Aer, execute\n",
    "from qiskit.visualization import plot_histogram\n",
    "\n",
    "def break_classical_encryption(ciphertext, key):\n",
    "    # Create a quantum circuit with the necessary qubits and classical bits\n",
    "    qc = QuantumCircuit(len(ciphertext) + len(key), len(key))\n",
    "\n",
    "    # Apply gates based on the key to decrypt the ciphertext\n",
    "    for i, bit in enumerate(key):\n",
    "        if bit == '1':\n",
    "            qc.x(i)\n",
    "\n",
    "    # Apply controlled-X gates to decrypt the ciphertext\n",
    "    for i, bit in enumerate(ciphertext):\n",
    "        if bit == '1':\n",
    "            target_qubit = i + len(key)\n",
    "            qc.cx(target_qubit, i)\n",
    "\n",
    "    # Measure the decrypted message\n",
    "    qc.measure(list(range(len(key))), list(range(len(key))))\n",
    "\n",
    "    return qc\n",
    "\n",
    "\n",
    "\n",
    "# Example usage\n",
    "ciphertext = \"1101\"\n",
    "key = \"101\"\n",
    "\n",
    "# Break the classical encryption\n",
    "break_circuit = break_classical_encryption(ciphertext, key)\n",
    "\n",
    "# Simulate the quantum circuit\n",
    "simulator = Aer.get_backend('qasm_simulator')\n",
    "job = execute(break_circuit, simulator, shots=1)\n",
    "result = job.result()\n",
    "break_counts = result.get_counts(break_circuit)\n",
    "\n",
    "print(\"Decrypted Message:\")\n",
    "plot_histogram(break_counts)\n"
   ]
  },
  {
   "cell_type": "code",
   "execution_count": 13,
   "id": "4d632f0d",
   "metadata": {},
   "outputs": [
    {
     "name": "stdout",
     "output_type": "stream",
     "text": [
      "Encrypted Message:\n"
     ]
    },
    {
     "data": {
      "image/png": "[encoded data removed]",
      "text/plain": [
       "<Figure size 700x500 with 1 Axes>"
      ]
     },
     "execution_count": 13,
     "metadata": {},
     "output_type": "execute_result"
    }
   ],
   "source": [
    "# Quantum circuit for quantum-safe cryptography\n",
    "def quantum_safe_cryptography(message, key):\n",
    "    # Create a quantum circuit with the necessary qubits and classical bits\n",
    "    qc = QuantumCircuit(len(message), len(key))\n",
    "\n",
    "    # Apply gates based on the key to encrypt the message\n",
    "    for i, bit in enumerate(key):\n",
    "        if bit == '1':\n",
    "            qc.x(i)\n",
    "    \n",
    "    # Apply gates to the message for quantum-safe encryption\n",
    "    for i, bit in enumerate(message):\n",
    "        if bit == '1':\n",
    "            qc.h(i)\n",
    "    \n",
    "    # Measure the encrypted message\n",
    "    qc.measure(list(range(len(key))), list(range(len(key))))\n",
    "\n",
    "    return qc\n",
    "\n",
    "# Example usage\n",
    "message = \"1101\"\n",
    "key = \"1110\"\n",
    "\n",
    "# Perform quantum-safe cryptography\n",
    "crypto_circuit = quantum_safe_cryptography(message, key)\n",
    "\n",
    "# Simulate the quantum circuit\n",
    "job = execute(crypto_circuit, simulator, shots=1)\n",
    "result = job.result()\n",
    "crypto_counts = result.get_counts(crypto_circuit)\n",
    "\n",
    "print(\"Encrypted Message:\")\n",
    "plot_histogram(crypto_counts)"
   ]
  },
  {
   "cell_type": "code",
   "execution_count": 18,
   "id": "77dc2d9c",
   "metadata": {},
   "outputs": [
    {
     "name": "stdout",
     "output_type": "stream",
     "text": [
      "Result: {'111': 1}\n"
     ]
    }
   ],
   "source": [
    "from qiskit import QuantumCircuit, execute, Aer\n",
    "\n",
    "# Define the number of qubits\n",
    "qubit_count = 3\n",
    "\n",
    "# Define the simulator backend\n",
    "simulator = Aer.get_backend('qasm_simulator')\n",
    "\n",
    "# Create a quantum circuit with the required qubit count\n",
    "qc = QuantumCircuit(qubit_count)\n",
    "\n",
    "# Perform quantum computations\n",
    "# ...\n",
    "\n",
    "# Example: Quantum teleportation\n",
    "qc.h(0)\n",
    "qc.cx(0, 1)\n",
    "qc.cx(1, 2)\n",
    "qc.measure_all()\n",
    "\n",
    "# Simulate the quantum circuit\n",
    "job = execute(qc, simulator, shots=1)\n",
    "result = job.result()\n",
    "counts = result.get_counts(qc)\n",
    "\n",
    "print(\"Result:\", counts)"
   ]
  },
  {
   "cell_type": "code",
   "execution_count": 21,
   "id": "4c718329",
   "metadata": {},
   "outputs": [
    {
     "name": "stdout",
     "output_type": "stream",
     "text": [
      "Requirement already satisfied: qiskit-ignis in d:\\new folder\\lib\\site-packages (0.7.1)\n",
      "Requirement already satisfied: numpy>=1.13 in d:\\new folder\\lib\\site-packages (from qiskit-ignis) (1.23.5)\n",
      "Requirement already satisfied: scipy!=0.19.1,>=0.19 in d:\\new folder\\lib\\site-packages (from qiskit-ignis) (1.10.0)\n",
      "Requirement already satisfied: setuptools>=40.1.0 in d:\\new folder\\lib\\site-packages (from qiskit-ignis) (65.6.3)\n",
      "Requirement already satisfied: retworkx>=0.8.0 in d:\\new folder\\lib\\site-packages (from qiskit-ignis) (0.12.1)\n",
      "Requirement already satisfied: qiskit-terra>=0.15.1 in d:\\new folder\\lib\\site-packages (from qiskit-ignis) (0.24.0)\n",
      "Requirement already satisfied: stevedore>=3.0.0 in d:\\new folder\\lib\\site-packages (from qiskit-terra>=0.15.1->qiskit-ignis) (5.1.0)\n",
      "Requirement already satisfied: rustworkx>=0.12.0 in d:\\new folder\\lib\\site-packages (from qiskit-terra>=0.15.1->qiskit-ignis) (0.12.1)\n",
      "Requirement already satisfied: ply>=3.10 in d:\\new folder\\lib\\site-packages (from qiskit-terra>=0.15.1->qiskit-ignis) (3.11)\n",
      "Requirement already satisfied: sympy>=1.3 in d:\\new folder\\lib\\site-packages (from qiskit-terra>=0.15.1->qiskit-ignis) (1.11.1)\n",
      "Requirement already satisfied: psutil>=5 in d:\\new folder\\lib\\site-packages (from qiskit-terra>=0.15.1->qiskit-ignis) (5.9.0)\n",
      "Requirement already satisfied: python-dateutil>=2.8.0 in d:\\new folder\\lib\\site-packages (from qiskit-terra>=0.15.1->qiskit-ignis) (2.8.2)\n",
      "Requirement already satisfied: dill>=0.3 in d:\\new folder\\lib\\site-packages (from qiskit-terra>=0.15.1->qiskit-ignis) (0.3.6)\n",
      "Requirement already satisfied: six>=1.5 in d:\\new folder\\lib\\site-packages (from python-dateutil>=2.8.0->qiskit-terra>=0.15.1->qiskit-ignis) (1.16.0)\n",
      "Requirement already satisfied: pbr!=2.1.0,>=2.0.0 in d:\\new folder\\lib\\site-packages (from stevedore>=3.0.0->qiskit-terra>=0.15.1->qiskit-ignis) (5.11.1)\n",
      "Requirement already satisfied: mpmath>=0.19 in d:\\new folder\\lib\\site-packages (from sympy>=1.3->qiskit-terra>=0.15.1->qiskit-ignis) (1.2.1)\n"
     ]
    }
   ],
   "source": [
    "!pip install qiskit-ignis\n"
   ]
  },
  {
   "cell_type": "code",
   "execution_count": 34,
   "id": "9ae5a022",
   "metadata": {},
   "outputs": [
    {
     "name": "stdout",
     "output_type": "stream",
     "text": [
      "Requirement already satisfied: qiskit-aer in d:\\new folder\\lib\\site-packages (0.12.0)\n",
      "Requirement already satisfied: qiskit-terra>=0.21.0 in d:\\new folder\\lib\\site-packages (from qiskit-aer) (0.24.0)\n",
      "Requirement already satisfied: numpy>=1.16.3 in d:\\new folder\\lib\\site-packages (from qiskit-aer) (1.23.5)\n",
      "Requirement already satisfied: scipy>=1.0 in d:\\new folder\\lib\\site-packages (from qiskit-aer) (1.10.0)\n",
      "Requirement already satisfied: sympy>=1.3 in d:\\new folder\\lib\\site-packages (from qiskit-terra>=0.21.0->qiskit-aer) (1.11.1)\n",
      "Requirement already satisfied: rustworkx>=0.12.0 in d:\\new folder\\lib\\site-packages (from qiskit-terra>=0.21.0->qiskit-aer) (0.12.1)\n",
      "Requirement already satisfied: psutil>=5 in d:\\new folder\\lib\\site-packages (from qiskit-terra>=0.21.0->qiskit-aer) (5.9.0)\n",
      "Requirement already satisfied: python-dateutil>=2.8.0 in d:\\new folder\\lib\\site-packages (from qiskit-terra>=0.21.0->qiskit-aer) (2.8.2)\n",
      "Requirement already satisfied: ply>=3.10 in d:\\new folder\\lib\\site-packages (from qiskit-terra>=0.21.0->qiskit-aer) (3.11)\n",
      "Requirement already satisfied: dill>=0.3 in d:\\new folder\\lib\\site-packages (from qiskit-terra>=0.21.0->qiskit-aer) (0.3.6)\n",
      "Requirement already satisfied: stevedore>=3.0.0 in d:\\new folder\\lib\\site-packages (from qiskit-terra>=0.21.0->qiskit-aer) (5.1.0)\n",
      "Requirement already satisfied: six>=1.5 in d:\\new folder\\lib\\site-packages (from python-dateutil>=2.8.0->qiskit-terra>=0.21.0->qiskit-aer) (1.16.0)\n",
      "Requirement already satisfied: pbr!=2.1.0,>=2.0.0 in d:\\new folder\\lib\\site-packages (from stevedore>=3.0.0->qiskit-terra>=0.21.0->qiskit-aer) (5.11.1)\n",
      "Requirement already satisfied: mpmath>=0.19 in d:\\new folder\\lib\\site-packages (from sympy>=1.3->qiskit-terra>=0.21.0->qiskit-aer) (1.2.1)\n",
      "Note: you may need to restart the kernel to use updated packages.\n"
     ]
    }
   ],
   "source": [
    "pip install qiskit-aer"
   ]
  },
  {
   "cell_type": "code",
   "execution_count": 52,
   "id": "2e1847b6",
   "metadata": {},
   "outputs": [
    {
     "ename": "SyntaxError",
     "evalue": "invalid syntax (31063931.py, line 2)",
     "output_type": "error",
     "traceback": [
      "\u001b[1;36m  Cell \u001b[1;32mIn[52], line 2\u001b[1;36m\u001b[0m\n\u001b[1;33m    from qiskit.providers import Aer.backend\u001b[0m\n\u001b[1;37m                                    ^\u001b[0m\n\u001b[1;31mSyntaxError\u001b[0m\u001b[1;31m:\u001b[0m invalid syntax\n"
     ]
    }
   ],
   "source": [
    "\n",
    "from qiskit import Aer, transpile, execute , backend\n",
    "from qiskit.providers import Aer.backend\n",
    "from qiskit.circuit.library import QuantumVolume\n",
    "\n",
    "num_qubits = 5\n",
    "depth = 5\n",
    "\n",
    "# Generate a quantum volume circuit\n",
    "qv_circ = QuantumVolume(num_qubits, depth)\n",
    "\n",
    "# Transpile the circuit for the target backend\n",
    "transpiled_circ = transpile(qv_circ, backend)\n",
    "\n",
    "# Execute the transpiled circuit to collect the calibration data\n",
    "calibration_data = execute(transpiled_circ, backend).result()\n",
    "\n",
    "# Apply error correction techniques to improve the circuit's performance\n",
    "# ...\n",
    "\n",
    "# Example: Applying repetition codes for error correction\n",
    "repetition_circ = repetition_code(transpiled_circ)\n",
    "\n",
    "# Simulate the error-corrected circuit\n",
    "job = execute(repetition_circ, simulator, shots=1)\n",
    "result = job.result()\n",
    "counts = result.get_counts(repetition_circ)\n",
    "\n",
    "print(\"Result after error correction:\", counts)\n"
   ]
  },
  {
   "cell_type": "code",
   "execution_count": null,
   "id": "40c536cb",
   "metadata": {},
   "outputs": [],
   "source": []
  },
  {
   "cell_type": "code",
   "execution_count": null,
   "id": "674dbace",
   "metadata": {},
   "outputs": [],
   "source": []
  }
 ],
 "metadata": {
  "kernelspec": {
   "display_name": "Python 3 (ipykernel)",
   "language": "python",
   "name": "python3"
  },
  "language_info": {
   "codemirror_mode": {
    "name": "ipython",
    "version": 3
   },
   "file_extension": ".py",
   "mimetype": "text/x-python",
   "name": "python",
   "nbconvert_exporter": "python",
   "pygments_lexer": "ipython3",
   "version": "3.10.9"
  }
 },
 "nbformat": 4,
 "nbformat_minor": 5
}
